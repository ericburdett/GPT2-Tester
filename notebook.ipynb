{
  "nbformat": 4,
  "nbformat_minor": 0,
  "metadata": {
    "colab": {
      "name": "notebook.ipynb",
      "provenance": [],
      "authorship_tag": "ABX9TyNckJQpTWw6lj44dwWGEzDy",
      "include_colab_link": true
    },
    "kernelspec": {
      "name": "python3",
      "display_name": "Python 3"
    },
    "accelerator": "GPU"
  },
  "cells": [
    {
      "cell_type": "markdown",
      "metadata": {
        "id": "view-in-github",
        "colab_type": "text"
      },
      "source": [
        "<a href=\"https://colab.research.google.com/github/ericburdett/GPT2-Tester/blob/master/notebook.ipynb\" target=\"_parent\"><img src=\"https://colab.research.google.com/assets/colab-badge.svg\" alt=\"Open In Colab\"/></a>"
      ]
    },
    {
      "cell_type": "markdown",
      "metadata": {
        "colab_type": "text",
        "id": "cHG6BW8aAZbJ"
      },
      "source": [
        "# GPT2-Tester\n",
        "\n",
        "This notebook contains code to easily test out GPT2 on any dataset.\n"
      ]
    },
    {
      "cell_type": "code",
      "metadata": {
        "colab_type": "code",
        "id": "FUxCetnZAY4f",
        "colab": {}
      },
      "source": [
        "!pip install gpt-2-simple"
      ],
      "execution_count": 0,
      "outputs": []
    },
    {
      "cell_type": "code",
      "metadata": {
        "id": "eiVldR9QufOx",
        "colab_type": "code",
        "colab": {}
      },
      "source": [
        "!wget https://raw.githubusercontent.com/ericburdett/GPT2-Tester/master/poems.txt"
      ],
      "execution_count": 0,
      "outputs": []
    },
    {
      "cell_type": "code",
      "metadata": {
        "id": "oh_DP0AlwOHp",
        "colab_type": "code",
        "colab": {}
      },
      "source": [
        "import gpt_2_simple as gpt2\n",
        "import os\n",
        "import requests\n",
        "\n",
        "model_name = \"355M\"\n",
        "if not os.path.isdir(os.path.join(\"models\", model_name)):\n",
        "\tprint(f\"Downloading {model_name} model...\")\n",
        "\tgpt2.download_gpt2(model_name=model_name)   # model is saved into current directory under /models/124M/\n",
        "\n",
        "sess = gpt2.start_tf_sess()\n",
        "gpt2.finetune(sess,\n",
        "              'poems.txt',\n",
        "              model_name=model_name,\n",
        "              steps=1000)   # steps is max number of training steps\n",
        "\n",
        "gpt2.generate(sess)"
      ],
      "execution_count": 0,
      "outputs": []
    },
    {
      "cell_type": "code",
      "metadata": {
        "id": "bhZQSQrWALsW",
        "colab_type": "code",
        "colab": {
          "base_uri": "https://localhost:8080/",
          "height": 649
        },
        "outputId": "d18f6ea6-27fd-4dda-fbbb-a18783f7a49e"
      },
      "source": [
        "gpt2.generate(sess, batch_size=5, nsamples=5, length=250, truncate='\\n\\n')"
      ],
      "execution_count": 8,
      "outputs": [
        {
          "output_type": "stream",
          "text": [
            "Fire hose\n",
            "====================\n",
            "Sitting on the beach, I see\n",
            "Swans far out in the distance fishing.\n",
            "====================\n",
            "The girl's eyes were wet with tears;\n",
            "Her body shook with each little spasm.\n",
            "====================\n",
            "Once you have tasted my love,\n",
            "You must have tasted my hate.\"\n",
            "\"Quick, quick, my love, die, die,\n",
            "Do you not see that this mortal coil\n",
            "(Rather than live or die) loves more than the fire\n",
            "(Though you, which love so much, do admit)\n",
            "Of love or hate, still pressed to the limit?\n",
            "Love presses so nigh, so firmly, that no escape\n",
            "Doth seem worth trying, but all manner\n",
            "Disfavored ideas do spring;\n",
            "Thus, as a poisonous tumor\n",
            "(Tyranny, you would say) grows in control,\n",
            "So must you, to varying degrees,\n",
            "Though you and I do not like it, die.\"\n",
            "\"Quick, quick, my love, die,\n",
            "That so unlovable you shall be\n",
            "(Though' you so like us, that'not love shall scape)\n",
            "And, that you shall be for ever so slight,\n",
            "And for ever so trim,\n",
            "That'any man, that likes you, may love you,\n",
            "And for ever so trim,\n",
            "Make you, for ever so fair,\n",
            "As you please, and for ever so light.\n",
            "====================\n",
            "Anon, the boy with the yellowish beard, leaped up on the bank, his hands in the wind, and throwing off the yellow dust, leaped too. And out of the yellow dust he leaped, and out of the yellow dust he leaped, and leaped, and leaped, and leaped, and leaped, and it was no use at all to try to catch him, for he had already gone.\n",
            "And out of the yellow dust he leaped, and out of the yellow dust he leaped, and leaped, and leaped, and leaped, and leaped, and it was no use at all to shout, for he had already gone.\n",
            "And out of the yellow dust he leaped, and out of the yellow dust he leaped, and out of the yellow dust he leaped, and out of the yellow dust he leaped, and out of the yellow dust he leaped, and out of the yellow dust he leaped, and out of the yellow dust he leaped, and out of the yellow dust he leaped, and out of the yellow dust he leaped, and out of the yellow dust he leaped, and out of the yellow dust\n",
            "====================\n"
          ],
          "name": "stdout"
        }
      ]
    }
  ]
}